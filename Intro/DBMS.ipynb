{
  "nbformat": 4,
  "nbformat_minor": 0,
  "metadata": {
    "colab": {
      "provenance": [],
      "authorship_tag": "ABX9TyNV/L3mTx0IhqBo96wh9bme",
      "include_colab_link": true
    },
    "kernelspec": {
      "name": "python3",
      "display_name": "Python 3"
    },
    "language_info": {
      "name": "python"
    }
  },
  "cells": [
    {
      "cell_type": "markdown",
      "metadata": {
        "id": "view-in-github",
        "colab_type": "text"
      },
      "source": [
        "<a href=\"https://colab.research.google.com/github/KASHYAPCHETAN438/DBMS/blob/main/DBMS.ipynb\" target=\"_parent\"><img src=\"https://colab.research.google.com/assets/colab-badge.svg\" alt=\"Open In Colab\"/></a>"
      ]
    },
    {
      "cell_type": "markdown",
      "source": [
        "# 🧩 Introduction to DBMS\n",
        "## 🔹 What is DBMS?\n",
        "\n",
        "- A Database Management System (DBMS) is software that allows users to store, retrieve, and manage data efficiently in a structured manner.\n",
        "\n",
        "\n",
        "🔹 Examples:\n",
        "\n",
        "- MySQL ,Oracle ,PostgreSQL ,MongoDB ,SQLite\n",
        "\n",
        "🔹 Need for DBMS:\n",
        "\n",
        "- Data redundancy control\n",
        "\n",
        "- Data consistency\n",
        "\n",
        "- Data security\n",
        "\n",
        "- Easy data access\n",
        "\n",
        "- Backup and recovery\n",
        "\n",
        "\n",
        "## Database Concepts\n",
        "\n",
        "| Term            | Description                               |\n",
        "| --------------- | ----------------------------------------- |\n",
        "| **Data**        | Raw facts and figures.                    |\n",
        "| **Information** | Processed form of data.                   |\n",
        "| **Database**    | Organized collection of data.             |\n",
        "| **DBMS**        | Software that manages the database.       |\n",
        "| **Schema**      | Logical structure of the database.        |\n",
        "| **Instance**    | Snapshot of the database at a given time. |\n"
      ],
      "metadata": {
        "id": "aHOTQ8bWqc99"
      }
    },
    {
      "cell_type": "markdown",
      "source": [
        "\n",
        "----\n",
        "# Architecture of DBMS\n",
        "1. Three-Level Architecture\n",
        "\n",
        "   - External Level (View Level) – User view of data.\n",
        "\n",
        "   - Conceptual Level (Logical Level) – Logical structure of database.\n",
        "\n",
        "   - Internal Level (Physical Level) – Physical storage details.\n",
        "\n",
        "2. Data Independence\n",
        "\n",
        "   - Logical Data Independence: Change in logical schema doesn’t affect external schema.\n",
        "\n",
        "   - Physical Data Independence: Change in physical storage doesn’t affect logical schema.\n",
        "\n",
        "\n",
        "\n",
        "-----\n",
        "\n",
        "## 🧩 Keys in DBMS\n",
        "\n",
        "| Key Type          | Description                                                      |\n",
        "| ----------------- | ---------------------------------------------------------------- |\n",
        "| **Primary Key**   | Uniquely identifies each record                                  |\n",
        "| **Candidate Key** | All possible primary keys                                        |\n",
        "| **Super Key**     | Combination of attributes that uniquely identify a row           |\n",
        "| **Foreign Key**   | Links two tables together                                        |\n",
        "| **Alternate Key** | Remaining candidate keys after selecting primary key             |\n",
        "| **Composite Key** | Combination of two or more columns to uniquely identify a record |\n",
        "\n",
        "\n",
        "\n",
        "\n",
        "-----\n",
        "  ## 🗃️ Data Models\n",
        "\n",
        "  | Model Type                    | Description                     | Example           |\n",
        "| ----------------------------- | ------------------------------- | ----------------- |\n",
        "| **Hierarchical Model**        | Data in tree-like structure     | IMS               |\n",
        "| **Network Model**             | Data in graph structure         | CODASYL           |\n",
        "| **Relational Model**          | Data in tables (rows & columns) | MySQL             |\n",
        "| **Entity-Relationship Model** | Uses ER diagrams                | Conceptual design |\n",
        "| **Object-Oriented Model**     | Combines data & methods         | ObjectDB          |\n",
        "\n",
        "\n",
        "\n",
        "\n"
      ],
      "metadata": {
        "id": "b23mwEREsPom"
      }
    },
    {
      "cell_type": "markdown",
      "source": [
        "------\n",
        "\n",
        "## 📊 Relational Model\n",
        "\n",
        "| Concept         | Description            |\n",
        "| --------------- | ---------------------- |\n",
        "| **Relation**    | Table                  |\n",
        "| **Tuple**       | Row                    |\n",
        "| **Attribute**   | Column                 |\n",
        "| **Domain**      | Set of possible values |\n",
        "| **Degree**      | No. of attributes      |\n",
        "| **Cardinality** | No. of tuples          |\n",
        "\n",
        "\n",
        "## ⚙️ Relational Algebra Operations\n",
        "\n",
        "### Basic Operations:\n",
        "\n",
        "- SELECT (σ) – Filter rows\n",
        "\n",
        "- PROJECT (π) – Select columns\n",
        "\n",
        "- UNION (∪) – Combine rows from two tables\n",
        "\n",
        "- SET DIFFERENCE (−) – Rows present in one table but not in another\n",
        "\n",
        "- CARTESIAN PRODUCT (×) – Combine all rows\n",
        "\n",
        "- RENAME (ρ) – Rename relation\n",
        "\n",
        "### Derived Operations:\n",
        "\n",
        "- JOIN (⋈)\n",
        "\n",
        "- Inner Join\n",
        "\n",
        "- Left Join\n",
        "\n",
        "- Right Join\n",
        "\n",
        "- Natural Join\n",
        "\n",
        "- DIVISION (÷)"
      ],
      "metadata": {
        "id": "xTtnCJuvuOE6"
      }
    },
    {
      "cell_type": "markdown",
      "source": [
        "---\n",
        "\n",
        "## 💾 Transactions & Concurrency Control\n",
        "🔹 Transaction:\n",
        "\n",
        "- A transaction is a sequence of operations performed as a single logical unit of work.\n",
        "\n",
        "🔹 Properties (ACID):\n",
        "\n",
        "- Atomicity – All or nothing\n",
        "\n",
        "- Consistency – Maintains database consistency\n",
        "\n",
        "- Isolation – Transactions are independent\n",
        "\n",
        "- Durability – Changes are permanent after commit\n",
        "\n",
        "🔹 Concurrency Control:\n",
        "\n",
        "- Ensures multiple transactions execute without conflict.\n",
        "\n",
        "### Techniques:\n",
        "\n",
        "- Locking (Shared, Exclusive)\n",
        "\n",
        "- Timestamp ordering\n",
        "\n",
        "- Two-phase locking (2PL)"
      ],
      "metadata": {
        "id": "Wd1F_LqCw9sO"
      }
    },
    {
      "cell_type": "markdown",
      "source": [
        "---\n",
        "\n",
        "## ⚠️ Deadlock\n",
        "###Definition:\n",
        "\n",
        "- A situation where two or more transactions are waiting for each other indefinitely.\n",
        "\n",
        "### Prevention Techniques:\n",
        "\n",
        "- Timeout\n",
        "\n",
        "- Resource ordering\n",
        "\n",
        "- Wait-Die / Wound-Wait schemes"
      ],
      "metadata": {
        "id": "1dHjJN-mxXjb"
      }
    },
    {
      "cell_type": "markdown",
      "source": [
        "---\n",
        "\n",
        "## 🔁 Backup & Recovery\n",
        "\n",
        "| Type                    | Description                         |\n",
        "| ----------------------- | ----------------------------------- |\n",
        "| **Full Backup**         | Entire database                     |\n",
        "| **Incremental Backup**  | Only changed data since last backup |\n",
        "| **Differential Backup** | Changes since last full backup      |\n",
        "\n",
        "\n",
        "### Recovery Methods:\n",
        "\n",
        "- Rollback\n",
        "\n",
        "- Rollforward\n",
        "\n",
        "- Checkpoint"
      ],
      "metadata": {
        "id": "8qPvVEKuxiVf"
      }
    },
    {
      "cell_type": "code",
      "execution_count": null,
      "metadata": {
        "id": "Hsn-QtbhqaSa"
      },
      "outputs": [],
      "source": []
    },
    {
      "cell_type": "markdown",
      "source": [
        "---\n",
        "\n",
        "# 📘 Introduction to SQL\n",
        "##🔹 What is SQL?\n",
        "\n",
        "- SQL (Structured Query Language) is a standard language used to store, manage, and retrieve data from a relational database.\n",
        "\n",
        "🔹 Common Databases using SQL:\n",
        "\n",
        "- Example :\n",
        "    MySQL ,Oracle ,PostgreSQL ,QL Server, SQLite\n",
        "\n",
        "### SQL Categories\n",
        "\n",
        "| Category                               | Description                           | Example Commands                       |\n",
        "| -------------------------------------- | ------------------------------------- | -------------------------------------- |\n",
        "| **DDL** (Data Definition Language)     | Defines structure of database objects | `CREATE`, `ALTER`, `DROP`, `TRUNCATE`  |\n",
        "| **DML** (Data Manipulation Language)   | Manipulates data inside tables        | `SELECT`, `INSERT`, `UPDATE`, `DELETE` |\n",
        "| **DCL** (Data Control Language)        | Controls user access to data          | `GRANT`, `REVOKE`                      |\n",
        "| **TCL** (Transaction Control Language) | Manages database transactions         | `COMMIT`, `ROLLBACK`, `SAVEPOINT`      |\n",
        "\n",
        "\n"
      ],
      "metadata": {
        "id": "ydNKwcm_yNJU"
      }
    },
    {
      "cell_type": "markdown",
      "source": [],
      "metadata": {
        "id": "aFLsFmV7yNPW"
      }
    },
    {
      "cell_type": "markdown",
      "source": [
        "# 🧩 Introduction to NoSQL\n",
        "##🔹 What is NoSQL?\n",
        "\n",
        "- NoSQL (Not Only SQL) databases are non-relational databases designed to handle unstructured or semi-structured data that cannot be efficiently stored in traditional relational databases (RDBMS).\n",
        "\n",
        "##🔹 Why NoSQL?\n",
        "\n",
        "- Traditional SQL databases store data in tables (rows and columns), but modern applications often need:\n",
        "\n",
        "- Huge amounts of data (Big Data)\n",
        "\n",
        "- Real-time performance\n",
        "\n",
        "- Horizontal scalability (add more servers easily)\n",
        "\n",
        "- Flexible schema\n",
        "\n",
        "\n",
        "\n",
        "## Features of NoSQL\n",
        "\n",
        "| Feature               | Description                                                        |\n",
        "| --------------------- | ------------------------------------------------------------------ |\n",
        "| **Schema-less**       | Data can be stored without predefined structure                    |\n",
        "| **Scalable**          | Easily handles large data by adding more machines                  |\n",
        "| **High Performance**  | Faster reads and writes for large datasets                         |\n",
        "| **Distributed**       | Data stored across multiple nodes                                  |\n",
        "| **Supports Big Data** | Ideal for handling unstructured data like JSON, videos, logs, etc. |\n",
        "\n",
        "\n",
        "\n",
        "## Types of NoSQL Databases\n",
        "\n",
        "| Type                | Data Model            | Examples         | Description                                                 |\n",
        "| ------------------- | --------------------- | ---------------- | ----------------------------------------------------------- |\n",
        "| **Document-based**  | JSON / BSON documents | MongoDB, CouchDB | Data stored as flexible key-value pairs in JSON-like format |\n",
        "| **Key-Value Store** | Key-value pairs       | Redis, DynamoDB  | Each record has a unique key and associated value           |\n",
        "| **Column-based**    | Column families       | Cassandra, HBase | Stores data in columns instead of rows for fast aggregation |\n",
        "| **Graph-based**     | Nodes and edges       | Neo4j, OrientDB  | Used for connected data like social networks                |\n",
        "\n"
      ],
      "metadata": {
        "id": "Y8s5KtDOw-l7"
      }
    },
    {
      "cell_type": "code",
      "source": [],
      "metadata": {
        "id": "ErlorqZxz73z"
      },
      "execution_count": null,
      "outputs": []
    },
    {
      "cell_type": "markdown",
      "source": [
        "---\n",
        "\n",
        "## 🗄️ Difference Between SQL and NoSQL\n",
        "\n",
        "| Feature              | **SQL**                                                        | **NoSQL**                                                                    |\n",
        "| -------------------- | -------------------------------------------------------------- | ---------------------------------------------------------------------------- |\n",
        "| **Full Form**        | Structured Query Language                                      | Not Only SQL                                                                 |\n",
        "| **Data Model**       | Table-based (rows and columns)                                 | Document, Key-Value, Graph, or Column-based                                  |\n",
        "| **Schema**           | Fixed schema (predefined structure)                            | Dynamic schema (flexible structure)                                          |\n",
        "| **Scalability**      | Vertically scalable (add more power to single server)          | Horizontally scalable (add more servers)                                     |\n",
        "| **Examples**         | MySQL, PostgreSQL, Oracle, MS SQL Server                       | MongoDB, Cassandra, CouchDB, Redis, Neo4j                                    |\n",
        "| **Query Language**   | Uses SQL for queries                                           | Uses different query languages depending on DB type (e.g., JSON for MongoDB) |\n",
        "| **Joins**            | Supports JOIN operations                                       | Generally does not support JOINs                                             |\n",
        "| **Transactions**     | ACID (Atomicity, Consistency, Isolation, Durability) compliant | BASE (Basically Available, Soft state, Eventually consistent)                |\n",
        "| **Storage Type**     | Relational storage                                             | Non-relational storage                                                       |\n",
        "| **Best For**         | Complex queries, structured data, and strong consistency       | Large-scale, unstructured, or semi-structured data                           |\n",
        "| **Performance**      | Slower for large unstructured datasets                         | Faster for unstructured or distributed data                                  |\n",
        "| **Use Case Example** | Banking system, ERP, CRM (where relationships matter)          | Real-time apps, IoT, social media feeds, caching                             |\n"
      ],
      "metadata": {
        "id": "Ky4WTT6_0DmD"
      }
    },
    {
      "cell_type": "code",
      "source": [],
      "metadata": {
        "id": "cMDlUUqY6M8K"
      },
      "execution_count": null,
      "outputs": []
    }
  ]
}